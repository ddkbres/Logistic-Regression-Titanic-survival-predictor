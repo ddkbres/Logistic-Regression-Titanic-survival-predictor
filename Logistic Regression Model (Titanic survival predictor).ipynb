{
 "cells": [
  {
   "cell_type": "code",
   "execution_count": 2,
   "id": "54a2d90e",
   "metadata": {},
   "outputs": [
    {
     "name": "stdout",
     "output_type": "stream",
     "text": [
      "0.7874251497005988\n",
      "0.7757847533632287\n",
      "[[ 1.23738091 -0.48430339  0.99016405  0.41070772]]\n",
      "[0 1 0]\n",
      "[[0.86857044 0.13142956]\n",
      " [0.04319316 0.95680684]\n",
      " [0.70828795 0.29171205]]\n"
     ]
    }
   ],
   "source": [
    "#import codecademylib3_seaborn\n",
    "import pandas as pd\n",
    "import numpy as np\n",
    "import matplotlib.pyplot as plt\n",
    "from sklearn.linear_model import LogisticRegression\n",
    "from sklearn.model_selection import train_test_split\n",
    "from sklearn.preprocessing import StandardScaler\n",
    "\n",
    "# Load the passenger data\n",
    "passengers = pd.read_csv('passengers.csv')\n",
    "#print(passengers)\n",
    "\n",
    "# Update sex column to numerical\n",
    "passengers['Sex'] = passengers['Sex'].map({'male':0, 'female':1})\n",
    "\n",
    "# Fill the nan values in the age column\n",
    "passengers['Age'].fillna(inplace = True, value = round(passengers['Age'].mean()))\n",
    "\n",
    "# Create a first class column\n",
    "passengers['FirstClass'] = passengers['Pclass'].apply(lambda p: 1 if p == 1 else 0)\n",
    "\n",
    "# Create a second class column\n",
    "passengers['SecondClass'] = passengers['Pclass'].apply(lambda p: 1 if p == 2 else 0)\n",
    "\n",
    "# Select the desired features\n",
    "features = passengers[['Sex','Age','FirstClass','SecondClass']]\n",
    "survival = passengers['Survived']\n",
    "\n",
    "# Perform train, test, split\n",
    "train_features, test_features, train_labels, test_labels = train_test_split(features, survival)\n",
    "\n",
    "# Scale the feature data so it has mean = 0 and standard deviation = 1\n",
    "scaler = StandardScaler()\n",
    "train_features = scaler.fit_transform(train_features)\n",
    "test_features = scaler.transform(test_features)\n",
    "\n",
    "# Create and train the model\n",
    "model = LogisticRegression()\n",
    "model.fit(train_features, train_labels)\n",
    "\n",
    "# Score the model on the train data\n",
    "print(model.score(train_features, train_labels))\n",
    "\n",
    "# Score the model on the test data\n",
    "print(model.score(test_features, test_labels))\n",
    "\n",
    "# Analyze the coefficients\n",
    "print(model.coef_)\n",
    "\n",
    "# Sample passenger features\n",
    "Jack = np.array([0.0,20.0,0.0,0.0])\n",
    "Rose = np.array([1.0,17.0,1.0,0.0])\n",
    "You = np.array([0.0,20.0,0.0,1.0])\n",
    "\n",
    "# Combine passenger arrays\n",
    "sample_passengers = np.array([Jack, Rose, You])\n",
    "\n",
    "# Scale the sample passenger features\n",
    "sample_passengers = scaler.transform(sample_passengers)\n",
    "\n",
    "# Make survival predictions!\n",
    "print(model.predict(sample_passengers))\n",
    "print(model.predict_proba(sample_passengers))\n"
   ]
  },
  {
   "cell_type": "code",
   "execution_count": null,
   "id": "f698eead",
   "metadata": {},
   "outputs": [],
   "source": []
  }
 ],
 "metadata": {
  "kernelspec": {
   "display_name": "Python 3",
   "language": "python",
   "name": "python3"
  },
  "language_info": {
   "codemirror_mode": {
    "name": "ipython",
    "version": 3
   },
   "file_extension": ".py",
   "mimetype": "text/x-python",
   "name": "python",
   "nbconvert_exporter": "python",
   "pygments_lexer": "ipython3",
   "version": "3.8.8"
  }
 },
 "nbformat": 4,
 "nbformat_minor": 5
}
